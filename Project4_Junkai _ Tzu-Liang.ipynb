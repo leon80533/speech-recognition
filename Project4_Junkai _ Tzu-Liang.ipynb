{
 "cells": [
  {
   "cell_type": "markdown",
   "metadata": {
    "cell_id": "2ed315ba-e6e1-4181-aa9e-d0265db8922b",
    "deepnote_cell_type": "markdown",
    "tags": []
   },
   "source": [
    "# CS304 - Project 4: Spell Checker\n",
    "\n",
    "- Authors: Junkai Man, Tzu-Liang Huang\n",
    "- Feb 16, 2022\n",
    "- Slides link: https://docs.google.com/presentation/d/1eaB3l2l5xjz0I-Ho9y5Y55IVOjlLuhqA4UOOwHNosF4/edit#slide=id.g115101b7aff_1_0"
   ]
  },
  {
   "cell_type": "markdown",
   "metadata": {
    "cell_id": "9656e7b3-55c6-43cf-95d3-ba56613f8a38",
    "deepnote_cell_type": "markdown",
    "tags": []
   },
   "source": [
    "## Outline\n",
    "1. LexTree\n",
    "2. Spell checker on single word\n",
    "3. Spell checker on unsegmented text"
   ]
  },
  {
   "cell_type": "markdown",
   "metadata": {
    "cell_id": "fde01490-c475-4a4e-a698-516dbb26739c",
    "deepnote_cell_type": "markdown",
    "tags": []
   },
   "source": [
    "## 1. LexTree"
   ]
  },
  {
   "cell_type": "markdown",
   "metadata": {
    "cell_id": "dd431f08-7d76-4ad8-902a-3eedc829bf95",
    "deepnote_cell_type": "markdown",
    "tags": []
   },
   "source": [
    "### 1.1 Node class"
   ]
  },
  {
   "cell_type": "code",
   "execution_count": 2,
   "metadata": {
    "cell_id": "a300ba92-5102-4304-af3e-7436d65d046d",
    "deepnote_cell_type": "code",
    "deepnote_to_be_reexecuted": false,
    "execution_millis": 44,
    "execution_start": 1645014349391,
    "source_hash": "4cd173d7",
    "tags": []
   },
   "outputs": [],
   "source": [
    "import numpy as np\n",
    "class Node:\n",
    "    def __init__(self, val, property=1):\n",
    "        self.val = val\n",
    "        self.prev = []          # list of previous nodes\n",
    "        self.next = []          # list of next nodes\n",
    "        self.nextProb = []      # store the transition probability to go to next node\n",
    "        # 0: start node, 1: normal node, 2: end node\n",
    "        self.property = property\n",
    "\n",
    "    def __str__(self):\n",
    "        return self.val\n",
    "\n",
    "    def _pretty_str(self, level=0):\n",
    "        ret = \"\\t\" * level + repr(self.val) + \"\\n\"\n",
    "        for nextNode in self.next:\n",
    "            ret += nextNode._pretty_str(level=level + 1)\n",
    "        return ret\n",
    "    \n",
    "    def pprint(self):\n",
    "        print(self._pretty_str())\n",
    "    \n",
    "    def append_prev(self, prevNode):\n",
    "        assert type(prevNode) is Node\n",
    "        if prevNode not in self.prev:\n",
    "            self.prev.append(prevNode)\n",
    "            prevNode.append_next(self)\n",
    "\n",
    "    def append_next(self, nextNode):\n",
    "        assert type(nextNode) is Node\n",
    "        if nextNode not in self.next:\n",
    "            self.next.append(nextNode)\n",
    "            nextNode.append_prev(self)\n",
    "    \n",
    "    def get_prev(self):\n",
    "        return self.prev\n",
    "    \n",
    "    def get_next(self):\n",
    "        return self.next\n",
    "\n",
    "    def _get_root(self, level=0):\n",
    "        if self.property == 0:\n",
    "            return (level, self)\n",
    "\n",
    "        root_levels = [prevNode._get_root(level=level+1) for prevNode in self.prev]\n",
    "        return max(root_levels, key=lambda x: x[0])\n",
    "\n",
    "    def get_root(self):\n",
    "        return self._get_root()[1]    # return the instance of node instead of root_level\n",
    "\n"
   ]
  },
  {
   "cell_type": "markdown",
   "metadata": {
    "cell_id": "7297627e-6afc-406a-af41-eba9328ffc6c",
    "deepnote_cell_type": "markdown",
    "tags": []
   },
   "source": [
    "### 1.2 Build Lex tree from the dictionary"
   ]
  },
  {
   "cell_type": "code",
   "execution_count": 3,
   "metadata": {
    "cell_id": "8d9655c1-a0b5-44af-aec7-231661360b5d",
    "deepnote_cell_type": "code",
    "deepnote_to_be_reexecuted": false,
    "execution_millis": 3,
    "execution_start": 1645014350754,
    "source_hash": "b213d753",
    "tags": []
   },
   "outputs": [],
   "source": [
    "def _build_tree(parent: Node, words, i, max_word_len):\n",
    "    if i >= max_word_len or parent.property == 2:\n",
    "        return\n",
    "    \n",
    "    for word in words:\n",
    "        # Ensure each leaf uniquely identifies a word\n",
    "        if (i + 1 < max_word_len and word[i + 1] == ' ') or i == max_word_len - 1:\n",
    "            child = Node(word[i], property=2)\n",
    "            parent.append_next(child)\n",
    "            words.remove(word)\n",
    "            \n",
    "    # get unique chars\n",
    "    chars = set(word[i] for word in words)\n",
    "    for char in chars:\n",
    "        child = Node(char, property=1)\n",
    "        parent.append_next(child)\n",
    "        new_words = [x for x in words if x[i] == char]\n",
    "        _build_tree(child, new_words, i+1, max_word_len)\n",
    "\n",
    "\n",
    "def build_tree_from_dict(words):\n",
    "    \"\"\" Build the lexical tree from a Python list of the dictionary of words.\n",
    "    \"\"\"\n",
    "\n",
    "    # Pad words to the same length\n",
    "    word_lens = [len(w) for w in words]\n",
    "    max_word_len = max(word_lens)\n",
    "    for i, word in enumerate(words):\n",
    "        words[i] = word.ljust(max_word_len, ' ')\n",
    "\n",
    "    tree = Node('*', property=0)\n",
    "    _build_tree(tree, words, 0, max_word_len)\n",
    "    return tree"
   ]
  },
  {
   "cell_type": "markdown",
   "metadata": {
    "cell_id": "54a4a7fa-1a68-42b8-8c3d-bb5ad938c1de",
    "deepnote_cell_type": "markdown",
    "tags": []
   },
   "source": [
    "Preview of what a tree looks like:"
   ]
  },
  {
   "cell_type": "code",
   "execution_count": 8,
   "metadata": {
    "cell_id": "1cce0241-0c74-4fcd-9b71-a247e60ba0d2",
    "deepnote_cell_type": "code",
    "deepnote_to_be_reexecuted": false,
    "execution_millis": 4,
    "execution_start": 1645014406531,
    "source_hash": "9135ce9b",
    "tags": []
   },
   "outputs": [
    {
     "name": "stdout",
     "output_type": "stream",
     "text": [
      "'*'\n",
      "\t'a'\n",
      "\t\t'p'\n",
      "\t\t\t'p'\n",
      "\t\t\t'p'\n",
      "\t\t\t\t'l'\n",
      "\t\t\t\t\t'e'\n",
      "\t\t'l'\n",
      "\t\t\t'i'\n",
      "\t\t\t\t'c'\n",
      "\t\t\t\t\t'e'\n",
      "\t'b'\n",
      "\t\t'a'\n",
      "\t\t\t't'\n",
      "\t\t\t't'\n",
      "\t\t\t\t't'\n",
      "\t\t\t\t\t'l'\n",
      "\t\t\t\t\t\t'e'\n",
      "\t\t\t'n'\n",
      "\t\t\t\t'a'\n",
      "\t\t\t\t\t'n'\n",
      "\t\t\t\t\t\t'a'\n",
      "\n"
     ]
    }
   ],
   "source": [
    "words = ['bat', 'banana', 'battle', 'apple', 'app', 'alice']\n",
    "preview_tree = build_tree_from_dict(words)\n",
    "preview_tree.pprint()"
   ]
  },
  {
   "cell_type": "markdown",
   "metadata": {
    "cell_id": "cca2e619-3a45-457d-bb57-9d224ab00897",
    "deepnote_cell_type": "markdown",
    "tags": []
   },
   "source": [
    "### 1.3 Read dictionary file and build the tree"
   ]
  },
  {
   "cell_type": "code",
   "execution_count": null,
   "metadata": {
    "cell_id": "7452f161-19e1-41e3-9e63-03b712134ff2",
    "deepnote_cell_type": "code",
    "deepnote_output_heights": [
     21.1875
    ],
    "deepnote_to_be_reexecuted": false,
    "execution_millis": 1234,
    "execution_start": 1644999331740,
    "source_hash": "3dbb517",
    "tags": []
   },
   "outputs": [],
   "source": [
    "with open('dict_1.txt', 'r', encoding='cp1252') as f:\n",
    "    dict_list = f.read().splitlines()\n",
    "\n",
    "dict_list[-5:]\n",
    "dictionary = build_tree_from_dict(dict_list)"
   ]
  },
  {
   "cell_type": "markdown",
   "metadata": {
    "cell_id": "b138523b-c950-4c5c-b14e-5270bc02a884",
    "deepnote_cell_type": "markdown",
    "tags": []
   },
   "source": [
    "## 2. Spell Check on Single Word"
   ]
  },
  {
   "cell_type": "code",
   "execution_count": null,
   "metadata": {
    "cell_id": "26ed311f-539a-43e0-abe7-afd7cfca4fcd",
    "deepnote_cell_type": "code",
    "deepnote_to_be_reexecuted": false,
    "execution_millis": 4,
    "execution_start": 1644999474574,
    "source_hash": "c74db0b0",
    "tags": []
   },
   "outputs": [],
   "source": [
    "import numpy as np\n",
    "\n",
    "def get_nodes(node_list, lexnode):\n",
    "    node_list.append(lexnode)\n",
    "    if len(lexnode.next) == 0:\n",
    "        return\n",
    "    for c in lexnode.next:\n",
    "        get_nodes(node_list, c)\n",
    "\n",
    "def spell_check_each_word(string_list: list, tree: Node, pruning=False, pruning_T=10):\n",
    "    insertion_cost = 1.0\n",
    "    deletion_cost = 1.0\n",
    "    match_cost = 0.0\n",
    "    substitution_cost = 1.0\n",
    "\n",
    "    assert type(tree) is Node\n",
    "    nodes = []\n",
    "    get_nodes(nodes, tree)\n",
    "\n",
    "    # initialize cost matrix\n",
    "    n_rows = len(nodes)\n",
    "    \n",
    "    activation_arr = [True for _ in range(n_rows)]\n",
    "    parent_index_arr = np.zeros(n_rows, dtype=int)\n",
    "    word_ends_arr = []\n",
    "    for r in range(n_rows):\n",
    "        char = nodes[r]\n",
    "        if char.property == 2:\n",
    "            word_ends_arr.append(r)\n",
    "        if len(char.get_next()) > 0:\n",
    "            for nextNode in char.get_next():\n",
    "                parent_index_arr[nodes.index(nextNode)] = r\n",
    "\n",
    "    word_ends = []\n",
    "    for i in range(n_rows):\n",
    "        if nodes[i].property == 2:\n",
    "            word_ends.append(i)\n",
    "    \n",
    "    best_costs = []\n",
    "    matched_strings = []\n",
    "\n",
    "    for string in string_list:\n",
    "        string = \"*\" + string\n",
    "        n_cols = len(string)\n",
    "        cost_mat = np.full((n_rows, n_cols), np.inf)\n",
    "        cost_mat[0, :] = 0\n",
    "        traceback_mat = np.zeros((n_rows, n_cols), dtype=tuple)\n",
    "        for i in range(n_cols):\n",
    "            for j in range(n_rows):\n",
    "                traceback_mat[j, i] = (0, 0)\n",
    "\n",
    "\n",
    "        ## DP\n",
    "        for c in range(n_cols):\n",
    "            for r in range(n_rows):\n",
    "                # dummy\n",
    "                if c == 0 and r == 0:\n",
    "                    continue\n",
    "                if pruning and activation_arr[r] == False:\n",
    "                    continue\n",
    "                subcosts = [np.inf for _ in range(4)]\n",
    "                from_points = [(0, 0) for _ in range(4)]\n",
    "\n",
    "                # subcosts[0]: insertion ->\n",
    "                # subcosts[1]: deletion ⬆️\n",
    "                # subcosts[2]: substitution / match\n",
    "            \n",
    "                node_cost = int(string[c] != nodes[r].val)\n",
    "\n",
    "                if nodes[r].property != 0:               # only if it's not dummy \n",
    "                    parent_index = parent_index_arr[r]\n",
    "                else:\n",
    "                    parent_index = None\n",
    "\n",
    "                if c == 1:\n",
    "                    subcosts[1] = node_cost + deletion_cost\n",
    "                    from_points[1] = (r, c)\n",
    "                    \n",
    "                    subcosts[2] = node_cost + match_cost\n",
    "                    from_points[2] = (r, c)\n",
    "                elif parent_index is not None:\n",
    "                    subcosts[0] = node_cost + insertion_cost + cost_mat[r, c-1]\n",
    "                    subcosts[1] = node_cost + deletion_cost + cost_mat[parent_index, c]\n",
    "                    if nodes[r].val == string[c]:\n",
    "                        subcosts[2] = node_cost + match_cost + cost_mat[parent_index, c-1]\n",
    "                    else:\n",
    "                        subcosts[2] = node_cost + substitution_cost + cost_mat[parent_index, c-1]\n",
    "                    \n",
    "                    from_points[0] = (r, c-1)\n",
    "                    from_points[1] = (parent_index, c)\n",
    "                    from_points[2] = (parent_index, c-1)\n",
    "                \n",
    "                min_idx = np.argmin(subcosts)\n",
    "                traceback_mat[r, c] = from_points[min_idx]\n",
    "                cost_mat[r, c] = subcosts[min_idx]\n",
    "\n",
    "            if pruning:\n",
    "                optimized_cost = np.min(cost_mat[1:, c])\n",
    "                for r in range(1, n_rows):\n",
    "                    if cost_mat[r, c] > optimized_cost + pruning_T:\n",
    "                        activation_arr[r] = False\n",
    "\n",
    "        word_subcosts = [cost_mat[word_end, n_cols - 1] for word_end in word_ends]\n",
    "        min_idx = np.argmin(word_subcosts)\n",
    "        min_word_end = word_ends[min_idx]\n",
    "        best_cost = word_subcosts[min_idx]\n",
    "\n",
    "        c = n_cols - 1\n",
    "        r = min_word_end\n",
    "        matched_string = nodes[r].val\n",
    "        while 1:\n",
    "            if c == 1:\n",
    "                break\n",
    "            r, c = traceback_mat[r, c]\n",
    "            if r != 0:\n",
    "                matched_string += nodes[r].val\n",
    "        best_costs.append(best_cost)\n",
    "        matched_strings.append(matched_string[::-1])\n",
    "        print(best_cost, matched_string[::-1])\n",
    "    return best_costs, matched_strings"
   ]
  },
  {
   "cell_type": "code",
   "execution_count": null,
   "metadata": {
    "cell_id": "8ff3fb5c-ce8f-4b98-a191-a8538912c449",
    "deepnote_cell_type": "code",
    "deepnote_to_be_reexecuted": false,
    "execution_millis": 4,
    "execution_start": 1644999475850,
    "source_hash": "bf50a5ed",
    "tags": []
   },
   "outputs": [],
   "source": [
    "typos = \"\"\"onse apon a tyme wile gramadatta ws kng of benares th bohisata kame to lif t the foot of he himlays as a konkey he greo stronge and sturdee big of fraem well to do an'd livd by a kervve of th rever bangese in a forrest haunt now at that tym there was a crokodylle dvelinge in th gnges the krocodle's maete saw the greate frame of the munkey and she conceeved a loanging to ete hs harte so she sed to her lord ser i dasyre to eet the huart of tht grate king of the munkees\n",
    "\n",
    "dood vife sade the crukodyle i leev in the vatre and hee livse on dri land huw kan we kach him\n",
    "\n",
    "dy huk or by cruk shee riplyd he mst be kot if i doan't get heem i shalt die\n",
    "\n",
    "all ryte anserd th krukerdyle kunsoaling hr don't trable yrself i hav a plan i wil give yoo his hart to eet\n",
    "\n",
    "so whn th bodhisutta wus sittink on th bank of th gnges aftr takin a drnk of watr the crokodyl droo nyar and seid sir monkee whay do yout liv on badd froots in this olde familyr plais on the odher syde of the ganges theare is no ennd to the mangoe trees and labooja brees wiht fruut sveet as oney is it not betr to kros overe ande hav alle kyndse of wilde fruot to eate\n",
    "\n",
    "lore crokodil th hunkee ansert the gangees is deepe and wayde houw shll i gt akross\n",
    "\n",
    "ife yoo want to goe i vill let yu sit apon my bakk and kary you over\n",
    "\n",
    "the monkey trustd hm andt agrid come 'ere thn seid th cracidole up on mye back with yoo and up th monkey klymbd but whn the brokodile had swum a lyttl waye he plungd the monkey undr the vater\n",
    "\n",
    "guod frend yoou ar letingk me sinnk craed the minkey wht is that fr\n",
    "\n",
    "th brukodyl said you think i am crrying youe out of puret goode nachre not a bit of it my wyfe has a langink for youre heaert and i wante to gve it to hr to eate\n",
    "\n",
    "freind said the monkee it is nyce of yoo to tel me whay if our hart weret hinside us when we go kjumpink amongk the trie tops it wuld be all nocked to peeces\n",
    "\n",
    "wll whre do yoou keep it askd the krocodileee\n",
    "\n",
    "the budhisata poynted out a fg trie with glasters of ryp friut standing not far ovf sie saidh he theare are our harts hangingk on yondr fige trie\n",
    "\n",
    "if you willt showe me your beart said the mrocogyle then i won't kill gou\n",
    "\n",
    "taeke mee to the treee dhen andd i wll poynt it out to youe\n",
    "\n",
    "the crabotile brouggt hym to the playce the monkey leapt off his back and clymbynj hup the figg tree sat hupon it oh spilly crocerdile saith he you tought that thear were kreetures that kept theeir haerst in a treetope you are a foole and i hav outvited you you may kep your friut to yoreself yore body is greuat but you hav no sesne\n",
    "\n",
    "and thenn to eksplain ths ideya he luttered the followin stanzaz\n",
    "\n",
    "rose-apfle yack-friute mnageso toos akrosse the watr thear i see\n",
    "enouff of thm i wnt thm not my figg is goode henoufh for me\n",
    "graet is yuor boddy verliy butt how muchh smaller is yoru witt\n",
    "now go youre ways ser crocodile for i hve hdd th besst hof ith\n",
    "the crocrdile feelingg as sadd and myserablle as if he had lost a housand pieses of muney wnt backk zorrowingk to the plase wher he livd\"\"\""
   ]
  },
  {
   "cell_type": "code",
   "execution_count": null,
   "metadata": {
    "cell_id": "b866c7c0-4ea0-4d5f-96dc-58bd5aa6567d",
    "deepnote_cell_type": "code",
    "deepnote_to_be_reexecuted": false,
    "execution_millis": 49834,
    "execution_start": 1644999476796,
    "source_hash": "ebcea4f8",
    "tags": []
   },
   "outputs": [],
   "source": [
    "typo_list = typos.split()\n",
    "best_costs, strings = spell_check_each_word(typo_list, dictionary, pruning=False, pruning_T=10)"
   ]
  },
  {
   "cell_type": "markdown",
   "metadata": {
    "cell_id": "9a938fad-2876-4bec-9bd0-883bd03a9916",
    "deepnote_cell_type": "markdown",
    "tags": []
   },
   "source": [
    "## 3. Spell Check on unsegmented text"
   ]
  },
  {
   "cell_type": "code",
   "execution_count": null,
   "metadata": {
    "cell_id": "3b32b410-205e-4263-8767-415aee11aa08",
    "deepnote_cell_type": "code",
    "deepnote_to_be_reexecuted": false,
    "execution_millis": 7,
    "execution_start": 1644999594831,
    "source_hash": "cfcaa5de",
    "tags": []
   },
   "outputs": [],
   "source": [
    "def spell_check(string_list: list, dictionary: Node, pruning=False, pruning_T=1, d_cost=1.0, i_cost=1.0, m_cost=0.0, s_cost=1.0, sp_cost=0.0, l_cost=1.0):\n",
    "    \"\"\"\n",
    "    Spell check a string using the given dictionary.\n",
    "    \"\"\"\n",
    "\n",
    "    INSERTION_COST = i_cost     \n",
    "    DELETION_COST = d_cost \n",
    "    MATCH_COST = m_cost\n",
    "    SUBSTITUTION_COST = s_cost\n",
    "    SPACE_COST = sp_cost\n",
    "    LOOP_COST = l_cost\n",
    "\n",
    "    # Create a list of all chracters in the dictionary.\n",
    "    def append_char(nodes: list, root: Node):\n",
    "        nodes.append(root)\n",
    "        if len(root.get_next()) == 0:\n",
    "            return\n",
    "        for c in root.get_next():\n",
    "            append_char(nodes, c)\n",
    "    chars = []\n",
    "    append_char(chars, dictionary)\n",
    "    chars.append(Node(' ', property=0))     # append the blank space character\n",
    "    \n",
    "    # Record the leafs\n",
    "    n_rows = len(chars)\n",
    "    parent_index_arr = np.zeros(n_rows, dtype=int)\n",
    "    word_ends_arr = []\n",
    "    for r in range(n_rows):\n",
    "        char = chars[r]\n",
    "        if char.property == 2:\n",
    "            word_ends_arr.append(r)\n",
    "        if len(char.get_next()) > 0:\n",
    "            for nextNode in char.get_next():\n",
    "                parent_index_arr[chars.index(nextNode)] = r\n",
    "\n",
    "    best_costs = []\n",
    "    matched_strings = []\n",
    "\n",
    "    #cost matrix\n",
    "    #traceback matrix\n",
    "    #pruning activation matrix\n",
    "\n",
    "    for string in string_list:\n",
    "\n",
    "        string = \"*\" + string\n",
    "        n_cols = len(string)\n",
    "        cost_mat = np.full((n_rows, n_cols), np.inf)\n",
    "        cost_mat[0, :] = 0\n",
    "        traceback_mat = np.zeros((n_rows, n_cols), dtype=tuple)\n",
    "        for i in range(n_cols):\n",
    "            for j in range(n_rows):\n",
    "                traceback_mat[j, i] = (0, 0)\n",
    "        activation_arr = [True for _ in range(n_rows)]\n",
    "\n",
    "\n",
    "        # DP\n",
    "        for c in range(n_cols):\n",
    "            for r in range(n_rows):\n",
    "                if r == 0 and c == 0:\n",
    "                    continue\n",
    "                if pruning and (activation_arr[r] == False):\n",
    "                    continue\n",
    "\n",
    "                subcosts = [np.inf for _ in range(4)]\n",
    "                from_points = [(0, 0) for _ in range(4)]\n",
    "\n",
    "                # 0 Insertion ->\n",
    "                # 1 Deletion  ⬆️\n",
    "                # 2 Match / Substitution  \\diagonal\n",
    "                # 3 Loop to dummy node      \n",
    "                node_cost = int(string[c] != chars[r].val)\n",
    "                \n",
    "                if chars[r].property != 0:      # only if it's not dummy \n",
    "                    parent_index = parent_index_arr[r]\n",
    "                else:\n",
    "                    parent_index = None\n",
    "                \n",
    "\n",
    "                # if this is a space node\n",
    "                if (r == n_rows - 1) and c > 0:\n",
    "                    subcosts = [node_cost + SPACE_COST + cost_mat[word_end, c - 1] for word_end in word_ends_arr[1:]]\n",
    "                    from_points = [(word_end, c - 1) for word_end in word_ends_arr[1:]]\n",
    "                \n",
    "                elif parent_index == 0:\n",
    "                    if c > 0:\n",
    "                        # insertion\n",
    "                        subcosts[0] = node_cost + INSERTION_COST + cost_mat[r, c - 1]\n",
    "                        from_points[0] = (r, c - 1)\n",
    "\n",
    "                        # deletion\n",
    "                        subcosts[1] = node_cost + DELETION_COST + cost_mat[parent_index, c]\n",
    "                        from_points[1] = (parent_index, c)\n",
    "                        \n",
    "                        # match & substitution\n",
    "                        if node_cost == 0:\n",
    "                            subcosts[2] = node_cost + MATCH_COST + cost_mat[parent_index, c-1]\n",
    "                        else:\n",
    "                            subcosts[2] = node_cost + SUBSTITUTION_COST + cost_mat[parent_index, c-1]\n",
    "                        from_points[2] = (parent_index, c - 1)\n",
    "\n",
    "                elif r == 0:\n",
    "                    if c > 0:\n",
    "                        # calculate loop costs\n",
    "                        loop_costs = [node_cost + LOOP_COST + cost_mat[n_rows - 1, c - 1]]\n",
    "\n",
    "                        # find the lowest loop cost\n",
    "                        loop_min_idx = np.argmin(loop_costs)\n",
    "                        subcosts[3] = loop_costs[loop_min_idx]\n",
    "                        from_points[3] = (n_rows - 1, c - 1)\n",
    "                else:\n",
    "                    if c > 0:\n",
    "                        # insertion\n",
    "                        subcosts[0] = node_cost + INSERTION_COST + cost_mat[r, c - 1]\n",
    "                        from_points[0] = (r, c - 1)\n",
    "                    \n",
    "                    if parent_index is not None:\n",
    "                        # deletion\n",
    "                        subcosts[1] = node_cost + DELETION_COST + cost_mat[parent_index, c]\n",
    "                        from_points[1] = (parent_index, c)\n",
    "\n",
    "                    if parent_index is not None and c > 0:\n",
    "                        # match & substitution\n",
    "                        if node_cost == 0:\n",
    "                            subcosts[2] = node_cost + MATCH_COST + cost_mat[parent_index, c - 1]\n",
    "                        else:\n",
    "                            subcosts[2] = node_cost + SUBSTITUTION_COST + cost_mat[parent_index, c - 1]\n",
    "                        from_points[2] = (parent_index, c - 1)\n",
    "\n",
    "                # remember path and cost\n",
    "                min_idx = np.argmin(subcosts)\n",
    "                cost_mat[r, c] = subcosts[min_idx]\n",
    "                traceback_mat[r, c] = from_points[min_idx]\n",
    "            \n",
    "            if pruning:\n",
    "                optimized_cost = np.min(cost_mat[1:-1, c])\n",
    "                for r in range(1, n_rows-1):\n",
    "                    if cost_mat[r, c] > optimized_cost + pruning_T:\n",
    "                        activation_arr[r] = False\n",
    "\n",
    "        subcosts = [cost_mat[word_end, n_cols - 1] for word_end in word_ends_arr]\n",
    "        min_idx = np.argmin(subcosts)\n",
    "        min_word_end = word_ends_arr[min_idx]\n",
    "        best_cost = subcosts[min_idx]\n",
    "\n",
    "        # find the matched string\n",
    "        c = n_cols - 1\n",
    "        r = min_word_end\n",
    "        matched_string = chars[r].val\n",
    "        while 1:\n",
    "            if c == 0:\n",
    "                break\n",
    "            r, c = traceback_mat[r, c]\n",
    "            if r != 0:\n",
    "                matched_string += chars[r].val\n",
    "            # else:\n",
    "                # matched_strings += ' '\n",
    "        # return best_cost, matched_string[::-1]\n",
    "        # print(best_cost, matched_string[::-1])\n",
    "        \n",
    "        best_costs.append(best_cost)\n",
    "        matched_strings.append(matched_string[::-1])\n",
    "    return best_costs, matched_strings\n",
    "                "
   ]
  },
  {
   "cell_type": "code",
   "execution_count": null,
   "metadata": {
    "cell_id": "06b248c0-ce90-4ed8-873d-4fb04a6edbaf",
    "deepnote_cell_type": "code",
    "deepnote_to_be_reexecuted": false,
    "execution_millis": 36555,
    "execution_start": 1644999628390,
    "source_hash": "c91297be",
    "tags": []
   },
   "outputs": [],
   "source": [
    "import time\n",
    "startTime = time.time()\n",
    "best_costs, matched_strings = spell_check(typo_list, dictionary, pruning=False, pruning_T=10)\n",
    "endTime = time.time()"
   ]
  },
  {
   "cell_type": "markdown",
   "metadata": {
    "cell_id": "a181896c-80b8-4474-acd3-6b46f752226e",
    "deepnote_cell_type": "markdown",
    "tags": []
   },
   "source": [
    "### 3.1 Unsegmented"
   ]
  },
  {
   "cell_type": "code",
   "execution_count": null,
   "metadata": {
    "cell_id": "302cd09a-8e25-4f6b-97c2-b4f282637844",
    "deepnote_cell_type": "code",
    "deepnote_to_be_reexecuted": false,
    "execution_millis": 4,
    "execution_start": 1645001561278,
    "source_hash": "ef5e1b17",
    "tags": []
   },
   "outputs": [],
   "source": [
    "unsegmented = [\"onceuponatimewhilebrahmadattawaskingofbenaresthebodhisattacametolifeatthefootofthehimalayasasamonkeyhegrewstrongandsturdybigofframewelltodoandlivedbyacurveoftherivergangesinaforesthauntnowatthattimetherewasacrocodiledwellinginthegangesthecrocodile'smatesawthegreatframeofthemonkeyandsheconceivedalongingtoeathisheartsoshesaidtoherlordsiridesiretoeattheheartofthatgreatkingofthemonkeysgoodwifesaidthecrocodileiliveinthewaterandhelivesondrylandhowcanwecatchhimbyhookorbycrooksherepliedhemustbecaughtifidon'tgethimishalldieallrightansweredthecrocodileconsolingherdon'ttroubleyourselfihaveaplaniwillgiveyouhishearttoeat\"]\n",
    "\n",
    "unsegmented_typo = [\"onseaponatymewilegramadattawskngofbenaresthbohisatakametoliftthefootofhehimlaysasakonkeyhegreostrongeandsturdeebigoffraemwelltodoan'dlivdbyakervveofthreverbangeseinaforresthauntnowatthattymtherewasacrokodylledvelingeinthgngesthekrocodle'smaetesawthegreateframeofthemunkeyandsheconceevedaloangingtoetehshartesoshesedtoherlordseridasyretoeetthehuartofthtgratekingofthemunkeesdoodvifesadethecrukodyleileevinthevatreandheelivseondrilandhuwkanwekachhimdyhukorbycruksheeriplydhemstbekotifidoan'tgetheemishaltdieallryteanserdthkrukerdylekunsoalinghrdon'ttrableyrselfihavaplaniwilgiveyoohisharttoeet\"]\n",
    "\n",
    "segmented = \"\"\"once upon a time while brahmadatta was king of benares the bodhisatta came to life at the foot of the himalayas as a monkey he grew strong and sturdy big of frame well to do and lived by a curve of the river ganges in a forest haunt now at that time there was a crocodile dwelling in the ganges the crocodile's mate saw the great frame of the monkey and she conceived a longing to eat his heart so she said to her lord sir i desire to eat the heart of that great king of the monkeys\n",
    "good wife said the crocodile i live in the water and he lives on dry land how can we catch him\n",
    "by hook or by crook she replied he must be caught if i don't get him i shall die\n",
    "all right answered the crocodile consoling her don't trouble yourself i have a plan i will give you his heart to eat\n",
    "so when the bodhisatta was sitting on the bank of the ganges after taking a drink of water the crocodile drew near and said sir monkey why do you live on bad fruits in this old familiar place on the other side of the ganges there is no end to the mango trees and labuja trees with fruit sweet as honey is it not better to cross over and have all kinds of wild fruit to eat\"\"\""
   ]
  },
  {
   "cell_type": "code",
   "execution_count": 9,
   "metadata": {
    "cell_id": "af35a1fd-91bb-4c6e-a20d-0cb569eaedaf",
    "deepnote_cell_type": "code",
    "deepnote_to_be_reexecuted": false,
    "execution_millis": 1,
    "execution_start": 1645014934866,
    "source_hash": "f486b76d",
    "tags": []
   },
   "outputs": [],
   "source": [
    "import string"
   ]
  },
  {
   "cell_type": "code",
   "execution_count": 10,
   "metadata": {
    "cell_id": "86d89f78-aa4b-4360-9fb3-2fc05c8dc92b",
    "deepnote_cell_type": "code",
    "deepnote_to_be_reexecuted": false,
    "execution_millis": 2,
    "execution_start": 1645014936957,
    "source_hash": "c869c7c5",
    "tags": []
   },
   "outputs": [],
   "source": [
    "def count_wrong(template, sample):\n",
    "    \n",
    "    puncts = string.punctuation\n",
    "    puncts = puncts.replace(\"\\n'\",'')\n",
    "\n",
    "    for punct in puncts:\n",
    "        template = template.replace(punct, '')\n",
    "    \n",
    "    word_list = template.split()\n",
    "    sample_list = sample.split()\n",
    "    \n",
    "    # score for difference number of segmented\n",
    "    num_wrong_scores = abs(len(word_list)-len(sample_list))\n",
    "\n",
    "    # score for wrong spelling word\n",
    "    spell_wrong_scores = 0\n",
    "    for i in sample_list:\n",
    "        spell_wrong_scores += 1 if (i.lower() not in word_list) else 0\n",
    "    \n",
    "    return spell_wrong_scores + num_wrong_scores\n",
    "    "
   ]
  },
  {
   "cell_type": "code",
   "execution_count": null,
   "metadata": {
    "cell_id": "16e38830-d27b-4da7-baf0-37bf914c9b7f",
    "deepnote_cell_type": "code",
    "tags": []
   },
   "outputs": [],
   "source": [
    "# result for unsegmented with no pruning, pruning = 5, 10, 15\n",
    "\n",
    "sample_no = spell_check(unsegmented, dictionary, pruning=False)[1]\n",
    "sample_5 = spell_check(unsegmented, dictionary, pruning=True, pruning_T=5)[1]\n",
    "sample_10 = spell_check(unsegmented, dictionary, pruning=True, pruning_T=10)[1]\n",
    "sample_15 = spell_check(unsegmented, dictionary, pruning=True, pruning_T=15)[1]"
   ]
  },
  {
   "cell_type": "markdown",
   "metadata": {
    "cell_id": "5de68a5e-b779-4072-9273-8613e94cd2f5",
    "deepnote_cell_type": "markdown",
    "tags": []
   },
   "source": [
    "Results:"
   ]
  },
  {
   "cell_type": "code",
   "execution_count": null,
   "metadata": {
    "cell_id": "74e19dae-0c42-478a-b608-57364cd917fb",
    "deepnote_cell_type": "code",
    "deepnote_to_be_reexecuted": false,
    "execution_millis": 3,
    "execution_start": 1645001603186,
    "source_hash": "4ee093b8",
    "tags": []
   },
   "outputs": [],
   "source": [
    "sample_no = '''once o time i brahmadatta asking benaress bodhisatta me life thee tofu himalayass monkey grew ronna sturdyy offf ewell doo livedd curve thhrive gangess forest unknown that tether as crocodile well vint gangess crocodile oates theere frame them meeanns conceived longing death hearts he i overlordss desire eatt heart that eat nnoot monkey o wife iit crocodile live the toran elitess rylan o an catchh by odor crookk replied must caughtt don't the shall haaarig answeredd crocodile consolingg don't doub yourself area an i give oh heart eat'''\n",
    "sample_5 = '''onne on i oh e oh outt an nno ee e e ooh ann an oo e oh o of ee an aaan onne e eee o an nu ee offf eeee o an i e ooor of ee e ann in or oh nnno oohh i oh e ooor oo e e i in eee ee e o e ee an an e e or e oh onn an e o e ee on no ee i eee o e i ohh or ii ee e e oh ee of an ee i of eee ee oo i e ii e oo i iii in e e an e e onnn an o an e ohh e o orrr ooooh ee e e e e ooh e onn e iii an i e ii an eeee e oo ii onn in e onnn oo e e e ii ee an ii ii o i e ee aa'''\n",
    "sample_10 = '''once on i while thhad faw king beear thee hisao came life the ooonthe maaay as monney grew ronna sturc big frame leto and veda curve theeir gange lafooe haunt want ttime e was rooodin well vint gange he o diie oates theere frame them keea she once e longg to this artsss said serlo sir e ret att heart that e king them kea o wife iit croc ii live the torann livess rylan o an catchh by odor crook here died must oought icon get vissa diee right sweeeet croc i cons ing wwon't doub you ee have plan i give oh heart eat'''\n",
    "sample_15 = '''once on i while raamada aaasking benares ee hisao came life the ooonthe malary as monkey grew ronna sturdyy offf ewell doo livedd curve thhrive gangess forest unknown that tether as rooodin well vint ganges euro diie oates theere frame them keea she once e longing death heartsss said serlo sir desire eatt heart that eat nnoot monkey o wife iit croc ii live the toran elitess rylan o an catchh by odor crookk replied must caughtt don't the shall ee right sweeeet croc i cons ingg don't doub yourself area an i give oh heart eat'''"
   ]
  },
  {
   "cell_type": "code",
   "execution_count": null,
   "metadata": {
    "cell_id": "85fa112f-d10d-4368-95f1-c30dbc048699",
    "deepnote_cell_type": "code",
    "deepnote_to_be_reexecuted": false,
    "execution_millis": 1533,
    "execution_start": 1645001646439,
    "source_hash": "3d0cc830",
    "tags": []
   },
   "outputs": [],
   "source": [
    "from matplotlib import pyplot as plt \n",
    "import matplotlib"
   ]
  },
  {
   "cell_type": "code",
   "execution_count": null,
   "metadata": {
    "cell_id": "b448d113-192a-4b76-87b6-c419c3892d9d",
    "deepnote_cell_type": "code",
    "deepnote_to_be_reexecuted": false,
    "execution_millis": 4,
    "execution_start": 1645001637263,
    "source_hash": "23c2ab45",
    "tags": []
   },
   "outputs": [],
   "source": [
    "count_wrong_scores = []\n",
    "sample_lst = [sample_no, sample_5, sample_10, sample_15]\n",
    "for i in sample_lst:\n",
    "    curr_score = count_wrong(segmented, i)\n",
    "    count_wrong_scores.append(curr_score)"
   ]
  },
  {
   "cell_type": "code",
   "execution_count": null,
   "metadata": {
    "cell_id": "2fb21e2e-ce87-4803-97df-6968ad587360",
    "deepnote_cell_type": "code",
    "deepnote_output_heights": [
     359
    ],
    "deepnote_to_be_reexecuted": false,
    "execution_millis": 286,
    "execution_start": 1645001650086,
    "source_hash": "7f3cfa3d",
    "tags": []
   },
   "outputs": [
    {
     "data": {
      "image/png": "[encoded data removed]",
      "text/plain": [
       "<Figure size 864x432 with 1 Axes>"
      ]
     },
     "metadata": {
      "image/png": {
       "height": 357,
       "width": 719
      },
      "needs_background": "light"
     },
     "output_type": "display_data"
    }
   ],
   "source": [
    "plt.figure(figsize=(12,6))\n",
    "sentiment, = plt.plot(['no pruning', '5', '10', '15'],count_wrong_scores)"
   ]
  },
  {
   "cell_type": "markdown",
   "metadata": {
    "cell_id": "f84ee809-9a50-4def-b8d9-527fa3e46001",
    "deepnote_cell_type": "markdown",
    "tags": []
   },
   "source": [
    "### 3.3 Unsegmented + Typos"
   ]
  },
  {
   "cell_type": "code",
   "execution_count": null,
   "metadata": {
    "cell_id": "974aa1f8-8d1b-4bbb-9535-8fbbca8b71ec",
    "deepnote_cell_type": "code",
    "tags": []
   },
   "outputs": [],
   "source": [
    "# result for unsegmented_typo with no pruning, pruning = 5, 10, 15\n",
    "\n",
    "sample_no_typo = spell_check(unsegmented_typo, dictionary, pruning=False)[1]\n",
    "sample_5_typo = spell_check(unsegmented_typo, dictionary, pruning=True, pruning_T=5)[1]\n",
    "sample_10_typo = spell_check(unsegmented_typo, dictionary, pruning=True, pruning_T=10)[1]\n",
    "sample_15_typo = spell_check(unsegmented_typo, dictionary, pruning=True, pruning_T=15)[1]"
   ]
  },
  {
   "cell_type": "markdown",
   "metadata": {
    "cell_id": "543872c5-301c-4dad-91e8-bd865f71537e",
    "deepnote_cell_type": "markdown",
    "tags": []
   },
   "source": [
    "Results:"
   ]
  },
  {
   "cell_type": "code",
   "execution_count": null,
   "metadata": {
    "cell_id": "2b819f53-09ba-4a3f-a359-8c9890d2ff1f",
    "deepnote_cell_type": "code",
    "deepnote_to_be_reexecuted": false,
    "execution_millis": 2,
    "execution_start": 1645001693465,
    "source_hash": "fac96e8b",
    "tags": []
   },
   "outputs": [],
   "source": [
    "sample_no_typo = '''onne onnto will ramada aasking benares bodhisatta me liitt foot hhhimalayyas onneyyear strong nast deep off eewell doanna i by eevve threee annesee forrest unknown thatt the was crocodille elia into best kroc le maeees the eat frame them meeanns conceived hanging etc harter heeed serlo merida ret etc hua off grattting them keese ddicesare deeruko le eev the trranchees second land wwwnnek hhim husar crutcheer lyda sebek i doon't theem halts all teaase the kerry consooling don't ablee elfie fulani llive oh harttzeel'''\n",
    "sample_5_typo = '''on up at ee e am at ass of no at oh at am o at e oooff i aasss o e e eee on an nu eee off e ee o ann i ee eee off eee an e in orr oh nnno at att oh e ass o ee e e in in on at or o ee aat am e e e am of e no an e on eeee oo in o ee aat ooh e ohh or ee as e eee e aat ohh at i of eee ee oo ii aaat or oo e e in e at an e ii on i nnnu ann am i oh or orrr e i ooh att oo i ann e e i aat e orr an aat e eee e nno innn on orr ee e ii aaaan i ii o i aat eee'''\n",
    "sample_10_typo = '''onne onnto will rama teams goob are hao satt me liitt foot he mmayda kon theere tto ernnst deep off eewell dian live acero of rev gange in orr thad now thatt the was rojo lle elia into best kroc le maeees the eat frame them keea sssconc veda an nit teesh tesh heeed her ryser as e feett hua of oora king them keesee viies otheer o leal vint eat and elia onn land wwwnnek hhim hua byyrd heer lyda sebek i doon't theem halts all teaase the kerry duns king don't ablee elliia plann llive oh haro feet'''\n",
    "sample_15_typo = '''onne onnto will ramada aasking benaress o satt me liitt foot he mmayda donkey or strong nast deep off eewell doanna i by eevve threee annesee forrest unknown thatt the was rojo lle elia into best kroc le maeees the eat frame them keea ssecond veda hanging etc harter heeed serlo merida ret etc hua off grattting them kies o i sad deeruko le eev the tree teel second land wwwnnek hhim hua by hasheer lyda sebek i doon't theem halts all teaase there roylee ssaling don't ablee elfie fulani llive oh harttzeel'''"
   ]
  },
  {
   "cell_type": "code",
   "execution_count": null,
   "metadata": {
    "cell_id": "7c502731-4821-4bf9-a294-74a50c97d899",
    "deepnote_cell_type": "code",
    "deepnote_to_be_reexecuted": false,
    "execution_millis": 4,
    "execution_start": 1645001705942,
    "source_hash": "a888b4e8",
    "tags": []
   },
   "outputs": [],
   "source": [
    "count_wrong_scores_typo = []\n",
    "sample_lst = [sample_no_typo, sample_5_typo, sample_10_typo, sample_15_typo]\n",
    "for i in sample_lst:\n",
    "    curr_score = count_wrong(segmented, i)\n",
    "    count_wrong_scores_typo.append(curr_score)"
   ]
  },
  {
   "cell_type": "code",
   "execution_count": null,
   "metadata": {
    "cell_id": "d0709a53-b9b1-4934-bf14-44467745bfdc",
    "deepnote_cell_type": "code",
    "deepnote_output_heights": [
     359
    ],
    "deepnote_to_be_reexecuted": false,
    "execution_millis": 192,
    "execution_start": 1645001708689,
    "source_hash": "f040c9e1",
    "tags": []
   },
   "outputs": [
    {
     "data": {
      "image/png": "[encoded data removed]",
      "text/plain": [
       "<Figure size 864x432 with 1 Axes>"
      ]
     },
     "metadata": {
      "image/png": {
       "height": 357,
       "width": 710
      },
      "needs_background": "light"
     },
     "output_type": "display_data"
    }
   ],
   "source": [
    "plt.figure(figsize=(12,6))\n",
    "sentiment, = plt.plot(['no pruning', '5', '10', '15'],count_wrong_scores_typo)"
   ]
  }
 ],
 "metadata": {
  "deepnote": {
   "is_reactive": false
  },
  "deepnote_execution_queue": [],
  "deepnote_notebook_id": "e749c5b1-c04d-43b3-a8fc-706715de98a6",
  "language_info": {
   "name": "python"
  },
  "orig_nbformat": 2
 },
 "nbformat": 4,
 "nbformat_minor": 2
}
