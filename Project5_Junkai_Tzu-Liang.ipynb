{
 "cells": [
  {
   "cell_type": "markdown",
   "metadata": {},
   "source": [
    "# Project 5 - Continuous Speech Recognition\n",
    "\n",
    "----\n",
    "Authors: Junkai Man, Tzu-Liang Huang\n",
    "\n",
    "Time: Feb 25, 2022\n"
   ]
  },
  {
   "cell_type": "markdown",
   "metadata": {},
   "source": [
    "## Problem1"
   ]
  },
  {
   "cell_type": "code",
   "execution_count": 63,
   "metadata": {},
   "outputs": [],
   "source": [
    "import numpy as np\n",
    "\n",
    "def load_model(model_filename):\n",
    "    \"\"\"\n",
    "        model_filename: filename of the model, should be a npz file containing all trans_mat and hmm_states of each word\n",
    "\n",
    "    \"\"\"\n",
    "    nums = ['zero', 'one', 'two', 'three', 'four', 'five', 'six', 'seven', 'eight', 'nine']\n",
    "\n",
    "    load_file = np.load(model_filename)\n",
    "    # assuming all the models have the same state number\n",
    "    N_STATE = load_file['zero_trans'].shape[0] - 2      # minus two buffer trans_probs\n",
    "\n",
    "    trans_dict = {}\n",
    "    means_dict = {}\n",
    "    vars_dict = {}\n",
    "\n",
    "    for idx, num in enumerate(nums):\n",
    "        old_trans_mat = load_file[f'{num}_trans']       # 7x5 matrix\n",
    "        new_trans_mat = np.empty((N_STATE, N_STATE))    # 5x5 matrix\n",
    "        new_trans_mat.fill(-1 * np.inf)\n",
    "        for j in range(N_STATE):\n",
    "            if j > 2:\n",
    "                subst = old_trans_mat[2+j, 0:5-j]\n",
    "            else:\n",
    "                subst = old_trans_mat[2+j, :]\n",
    "            new_trans_mat[j, j:min(j+3, N_STATE)] = subst\n",
    "        trans_dict[f'{num}'] = new_trans_mat\n",
    "\n",
    "        hmm_means_vars = load_file[f'{num}_hmm']\n",
    "        means_dict[f'{num}'] = hmm_means_vars[::2]\n",
    "        vars_dict[f'{num}'] = hmm_means_vars[1::2]\n",
    "    return trans_dict, means_dict, vars_dict\n"
   ]
  },
  {
   "cell_type": "code",
   "execution_count": 155,
   "metadata": {},
   "outputs": [],
   "source": [
    "from os import listdir\n",
    "\n",
    "def load_test_queries(file_dir):\n",
    "    file_list = listdir(file_dir)\n",
    "    if '.DS_Store' in file_list:\n",
    "        file_list.remove('.DS_Store')\n",
    "    test_queries_dict = {}\n",
    "    for item in file_list:\n",
    "        # print(item)\n",
    "        test_queries_dict[f'{item[:-4]}'] = np.loadtxt(f'{file_dir}/{item}')\n",
    "    return test_queries_dict"
   ]
  },
  {
   "cell_type": "code",
   "execution_count": 65,
   "metadata": {},
   "outputs": [],
   "source": [
    "def build_template_for_problem1(trans_dict, means_dict, vars_dict):\n",
    "    nums = ['zero', 'one', 'two', 'three', 'four', 'five', 'six', 'seven', 'eight', 'nine']\n",
    "\n",
    "    # Number of states for each HMM\n",
    "    N_STATE = 5\n",
    "    N_MFCC = 39\n",
    "\n",
    "    n_layers = 7            # can handle 7 digits\n",
    "    \n",
    "    # First add a NE state\n",
    "    template_height = 1\n",
    "    for i in range(n_layers):\n",
    "        if i == 0:  want_nums = nums[2:]\n",
    "        else:       want_nums = nums\n",
    "        for num in want_nums:\n",
    "            template_height += N_STATE\n",
    "        template_height += 1                   # add a NE state\n",
    "\n",
    "    full_trans_mat = np.full((template_height, template_height), np.inf)\n",
    "\n",
    "    template_indicator = []\n",
    "    template_indicator.append('*')\n",
    "    hmm_means_matrix = np.zeros((1, N_MFCC))\n",
    "    hmm_vars_matrix = np.zeros((1, N_MFCC))\n",
    "    start_state_idx = [[] for _ in range(n_layers)]\n",
    "    end_state_idx = [[] for _ in range(n_layers)]\n",
    "    nes_idx = [0]\n",
    "\n",
    "    for i in range(n_layers):\n",
    "        if i == 0:  want_nums = nums[2:]\n",
    "        else:       want_nums = nums\n",
    "        for num in want_nums:\n",
    "            curr = len(template_indicator)\n",
    "            start_state_idx[i].append(curr)\n",
    "            end_state_idx[i].append(curr + N_STATE - 1)\n",
    "            regional_trans_mat = trans_dict[f'{num}'].T\n",
    "            template_indicator.extend([f'{num}'] * N_STATE) \n",
    "            hmm_means_matrix = np.vstack((hmm_means_matrix, means_dict[f'{num}']))\n",
    "            hmm_vars_matrix = np.vstack((hmm_vars_matrix, vars_dict[f'{num}']))\n",
    "            full_trans_mat[curr: curr+N_STATE, curr:curr+N_STATE] = regional_trans_mat\n",
    "\n",
    "        template_indicator.append('*')      # NES\n",
    "        hmm_means_matrix = np.vstack((hmm_means_matrix, np.zeros((1, N_MFCC))))\n",
    "        hmm_vars_matrix = np.vstack((hmm_vars_matrix, np.zeros((1, N_MFCC))))\n",
    "        nes_idx.append(len(template_indicator)-1)\n",
    "\n",
    "    # Taking from peer tutor's advice, we manually assign the 0 transition cost for each NES\n",
    "    prev_nes_idx = 0\n",
    "    next_nes_idx = 1\n",
    "    for i in range(n_layers):\n",
    "        for s in start_state_idx[i]:\n",
    "            full_trans_mat[s, nes_idx[prev_nes_idx]] = 0    # transit from NES to start state\n",
    "        for e in end_state_idx[i]:\n",
    "            full_trans_mat[nes_idx[next_nes_idx], e] = 0    # transit from end state to NES\n",
    "        prev_nes_idx += 1\n",
    "        next_nes_idx += 1\n",
    "\n",
    "    # Here, add the transition cost 0 from the 0th NES to the 3th NES so that we can skip the first three\n",
    "    full_trans_mat[nes_idx[3], nes_idx[0]] = 0\n",
    "    return template_indicator, full_trans_mat, hmm_means_matrix, hmm_vars_matrix\n"
   ]
  },
  {
   "cell_type": "code",
   "execution_count": 166,
   "metadata": {},
   "outputs": [],
   "source": [
    "from scipy.spatial.distance import cdist\n",
    "\n",
    "def continuous_rec(query, template_indicator, transition, means, vars, end_points=None):\n",
    "    n_cols = len(query)\n",
    "    n_rows = transition.shape[0]\n",
    "    cost_mat = np.full((n_rows, n_cols), np.inf)\n",
    "    path_mat = np.zeros((n_rows, n_cols), dtype=tuple)\n",
    "    for c in range(n_cols):\n",
    "        for r in range(n_rows):\n",
    "            path_mat[r, c] = (0, 0)\n",
    "\n",
    "    dist_mat = np.zeros((n_rows, n_cols))\n",
    "    N_MFCC = means.shape[1]\n",
    "    for i in range(n_rows):\n",
    "        if template_indicator[i] == '*':\n",
    "            continue\n",
    "        D = N_MFCC\n",
    "        means = hmm_means[i, :]\n",
    "        vars = hmm_vars[i, :]\n",
    "        cov_I = np.linalg.inv(np.diag(vars))\n",
    "        mahala_dist = cdist(np.matrix(means), query, 'mahalanobis', VI=cov_I)\n",
    "        dist_mat[i] = 0.5 * mahala_dist + D * 0.5 * np.log(2 * np.pi) + 0.5 * np.prod(vars)\n",
    "\n",
    "    for c in range(n_cols):\n",
    "        for r in range(n_rows):\n",
    "            if r == 0 and c == 0:\n",
    "                cost_mat[0, 0] = dist_mat[0, 0]\n",
    "                continue\n",
    "            prev_costs = []\n",
    "            from_points = []\n",
    "            for origin in range(n_rows):\n",
    "                # Taking advice from the peer tutor, we simplified three types of dtw (right, diag, super-diag)\n",
    "                # to only one type (parent) by only considering whether it can transit from the \"origin\" state\n",
    "                # i.e. whether the transition cost from origin -> r is infinity or not\n",
    "                if np.isinf(transition[r, origin]):\n",
    "                    continue\n",
    "\n",
    "                if template_indicator[origin] == '*' or template_indicator[r] == '*':\n",
    "                    # if the origin is a NES or the parent\n",
    "                    # note that we've already excluded the cases where origin cannot transit to r\n",
    "                    prev_costs.append(transition[r, origin] + cost_mat[origin, c])\n",
    "                    from_points.append([origin, c])\n",
    "                else:\n",
    "                    prev_costs.append(transition[r, origin] + cost_mat[origin, c - 1])\n",
    "                    from_points.append([origin, c - 1])\n",
    "            \n",
    "            if len(prev_costs) == 0:\n",
    "                continue\n",
    "            min_idx = np.argmin(prev_costs)\n",
    "            origin_point = from_points[min_idx]\n",
    "            path_mat[r, c] = origin_point\n",
    "            cur_cost = dist_mat[r, c] + prev_costs[min_idx]\n",
    "            cost_mat[r, c] = np.min([cost_mat[r, c], cur_cost])\n",
    "    \n",
    "    if end_points is None:\n",
    "        end_points = [(-1, -1)]\n",
    "    \n",
    "    best_cost = np.inf\n",
    "    best_end_point = []\n",
    "    for end_point in end_points:\n",
    "        if best_cost >= cost_mat[end_point]:\n",
    "            best_cost = cost_mat[end_point]\n",
    "            best_end_point = end_point\n",
    "    \n",
    "    i, j = best_end_point\n",
    "    path = []\n",
    "    while j != 0:\n",
    "        i, j = path_mat[i, j]\n",
    "        path.append([i, j])\n",
    "\n",
    "\n",
    "    # return the result\n",
    "    from itertools import groupby\n",
    "    path = np.array(path[::-1])[:, 0]\n",
    "    result = [i[0] for i in groupby(path)]\n",
    "    final_result = []\n",
    "    for i in range(len(result)):\n",
    "        final_result.append(template_indicator[result[i]])\n",
    "    final_result = [i[0] for i in groupby(final_result)]\n",
    "    final_result = list(filter(lambda x: x != '*', final_result))\n",
    "    return cost_mat, path, final_result, dist_mat\n"
   ]
  },
  {
   "cell_type": "code",
   "execution_count": 185,
   "metadata": {},
   "outputs": [
    {
     "name": "stdout",
     "output_type": "stream",
     "text": [
      "========Accuracy========\n",
      "Digit accuracy: 0.9448275862068966\n",
      "Sentence accuracy: 0.68\n"
     ]
    }
   ],
   "source": [
    "\"\"\"\n",
    "    Main\n",
    "\"\"\"\n",
    "num_to_digit = {\"zero\": 0, \"one\": 1, \"two\": 2, \"three\": 3, \"four\": 4, \"five\": 5, \"six\": 6, \"seven\": 7, \"eight\": 8, \"nine\": 9}\n",
    "\n",
    "# Load models\n",
    "trans_dict, means_dict, vars_dict = load_model('npz_save/nums_hmm_1g.npz')\n",
    "\n",
    "# Load test_queries\n",
    "# for convenience, we just store them in mfcc lists\n",
    "queries = load_test_queries('./test_data')\n",
    "\n",
    "# Prepare template\n",
    "template_indicator, trans_mat, hmm_means, hmm_vars = build_template_for_problem1(trans_dict, means_dict, vars_dict)\n",
    "\n",
    "# Test accuracy\n",
    "total_digits = 10 * 4 + 15 * 7\n",
    "total_sentences = 25\n",
    "\n",
    "digit_cnt = 0\n",
    "sentence_cnt = 0\n",
    "for key in queries.keys():\n",
    "    cost_mat, path, final_result, dist_mat = continuous_rec(queries[f'{key}'], template_indicator, trans_mat, hmm_means, hmm_vars)\n",
    "    digits = []\n",
    "    for num in final_result:\n",
    "        digits.append(num_to_digit[num])\n",
    "\n",
    "    for i in range(len(key)):\n",
    "        if f'{digits[i]}' == f'{key[i]}':\n",
    "            digit_cnt += 1\n",
    "    \n",
    "    digits = [str(d) for d in digits]\n",
    "    if ''.join(digits) == key:\n",
    "        sentence_cnt += 1\n",
    "\n",
    "print(\"========Accuracy========\")\n",
    "print(\"Digit accuracy:\", digit_cnt / total_digits)\n",
    "print(\"Sentence accuracy:\", sentence_cnt / total_sentences)\n"
   ]
  },
  {
   "cell_type": "markdown",
   "metadata": {},
   "source": [
    "## Problem2"
   ]
  },
  {
   "cell_type": "code",
   "execution_count": 199,
   "metadata": {},
   "outputs": [],
   "source": [
    "import matplotlib.pyplot as plt\n",
    "def build_template_for_problem2(trans_dict, means_dict, vars_dict):\n",
    "    nums = ['zero', 'one', 'two', 'three', 'four', 'five', 'six', 'seven', 'eight', 'nine']\n",
    "\n",
    "    # Number of states for each HMM\n",
    "    N_STATE = 5\n",
    "    N_MFCC = 39\n",
    "\n",
    "    n_layers = 1            # can handle 7 digits\n",
    "    \n",
    "    # First add a NE state\n",
    "    template_height = 1\n",
    "    for i in range(n_layers):\n",
    "        want_nums = nums\n",
    "        for num in want_nums:\n",
    "            template_height += N_STATE\n",
    "        template_height += 1                   # add a NE state\n",
    "\n",
    "    full_trans_mat = np.full((template_height, template_height), np.inf)\n",
    "\n",
    "    template_indicator = []\n",
    "    template_indicator.append('*')\n",
    "    hmm_means_matrix = np.zeros((1, N_MFCC))\n",
    "    hmm_vars_matrix = np.zeros((1, N_MFCC))\n",
    "    start_state_idx = [[] for _ in range(n_layers)]\n",
    "    end_state_idx = [[] for _ in range(n_layers)]\n",
    "    nes_idx = [0]\n",
    "\n",
    "    for i in range(n_layers):\n",
    "        want_nums = nums\n",
    "        for num in want_nums:\n",
    "            curr = len(template_indicator)\n",
    "            start_state_idx[i].append(curr)\n",
    "            end_state_idx[i].append(curr + N_STATE - 1)\n",
    "            regional_trans_mat = trans_dict[f'{num}'].T\n",
    "            template_indicator.extend([f'{num}'] * N_STATE) \n",
    "            hmm_means_matrix = np.vstack((hmm_means_matrix, means_dict[f'{num}']))\n",
    "            hmm_vars_matrix = np.vstack((hmm_vars_matrix, vars_dict[f'{num}']))\n",
    "            full_trans_mat[curr: curr+N_STATE, curr:curr+N_STATE] = regional_trans_mat\n",
    "\n",
    "        template_indicator.append('*')      # NES\n",
    "        hmm_means_matrix = np.vstack((hmm_means_matrix, np.zeros((1, N_MFCC))))\n",
    "        hmm_vars_matrix = np.vstack((hmm_vars_matrix, np.zeros((1, N_MFCC))))\n",
    "        nes_idx.append(len(template_indicator)-1)\n",
    "\n",
    "    # Taking from peer tutor's advice, we manually assign the 0 transition cost for each NES\n",
    "    prev_nes_idx = 0\n",
    "    next_nes_idx = 1\n",
    "    for i in range(n_layers):\n",
    "        for s in start_state_idx[i]:\n",
    "            full_trans_mat[s, nes_idx[prev_nes_idx]] = 0    # transit from NES to start state\n",
    "        for e in end_state_idx[i]:\n",
    "            full_trans_mat[nes_idx[next_nes_idx], e] = 0    # transit from end state to NES\n",
    "        prev_nes_idx += 1\n",
    "        next_nes_idx += 1\n",
    "    \n",
    "    # Transit from the last one to the first one\n",
    "    full_trans_mat[nes_idx[0], nes_idx[-1]] = 0\n",
    "    plt.figure(figsize=(3, 3), dpi=130)\n",
    "    plt.matshow(full_trans_mat, fignum=1, origin='lower')\n",
    "    plt.show()\n",
    "    return template_indicator, full_trans_mat, hmm_means_matrix, hmm_vars_matrix\n"
   ]
  },
  {
   "cell_type": "code",
   "execution_count": 200,
   "metadata": {},
   "outputs": [
    {
     "data": {
      "image/png": "[encoded data removed]",
      "text/plain": [
       "<Figure size 390x390 with 1 Axes>"
      ]
     },
     "metadata": {
      "needs_background": "light"
     },
     "output_type": "display_data"
    }
   ],
   "source": [
    "\"\"\"\n",
    "    Main\n",
    "\"\"\"\n",
    "num_to_digit = {\"zero\": 0, \"one\": 1, \"two\": 2, \"three\": 3, \"four\": 4, \"five\": 5, \"six\": 6, \"seven\": 7, \"eight\": 8, \"nine\": 9}\n",
    "\n",
    "# Load models\n",
    "trans_dict, means_dict, vars_dict = load_model('npz_save/nums_hmm_1g.npz')\n",
    "\n",
    "# Load test_queries\n",
    "# for convenience, we just store them in mfcc lists\n",
    "queries = load_test_queries('./test_data')\n",
    "\n",
    "# Prepare template\n",
    "template_indicator, trans_mat, hmm_means, hmm_vars = build_template_for_problem2(trans_dict, means_dict, vars_dict)\n",
    "\n",
    "\n",
    "# test\n",
    "cost_mat, path, final_result, dist_mat = continuous_rec(queries['4958'], template_indicator, trans_mat, hmm_means, hmm_vars)\n"
   ]
  },
  {
   "cell_type": "code",
   "execution_count": 204,
   "metadata": {},
   "outputs": [
    {
     "data": {
      "text/plain": [
       "['four']"
      ]
     },
     "execution_count": 204,
     "metadata": {},
     "output_type": "execute_result"
    }
   ],
   "source": [
    "final_result"
   ]
  },
  {
   "cell_type": "markdown",
   "metadata": {},
   "source": [
    "failed.\n",
    "\n",
    "Make the last non-emitting state transit back to the first one.\n",
    "\n",
    "But still no clue why this program will only recognize the very first digit\n",
    "\n",
    "We'd like to hear some feedbacks... and debugs..."
   ]
  },
  {
   "cell_type": "code",
   "execution_count": 203,
   "metadata": {},
   "outputs": [
    {
     "data": {
      "text/plain": [
       "array([21, 21, 21, 21, 21, 21, 21, 21, 21, 21, 21, 22, 22, 22, 22, 23, 23,\n",
       "       23, 23, 23, 23, 23, 23, 23, 23, 23, 23, 23, 23, 23, 23, 23, 23, 23,\n",
       "       23, 23, 24, 24, 24, 24, 24, 24, 24, 24, 24, 24, 24, 25, 25, 25, 25,\n",
       "       25, 25, 25, 25, 25, 25, 25, 25, 25, 25, 25, 25, 25, 25, 25, 25, 25,\n",
       "       25, 25, 25, 25, 25, 25, 25, 25, 25, 25, 25, 25, 25, 25, 25, 25, 25,\n",
       "       25, 25, 25, 25, 25, 25, 25, 25, 25, 25, 25, 25, 25, 25, 25, 25, 25,\n",
       "       25, 25, 25, 25, 25, 25, 25, 25, 25, 25, 25, 25, 25, 25, 25, 25, 25,\n",
       "       25, 25, 25, 25, 25, 25, 25, 25, 25, 25, 25, 25, 25, 25, 25, 25, 25,\n",
       "       25, 25, 25, 25, 25, 25, 25, 25, 25, 25, 25, 25, 25, 25, 25, 25, 25,\n",
       "       25, 25, 25, 25, 25, 25, 25, 25, 25, 25, 25, 25, 25, 25, 25, 25, 25,\n",
       "       25, 25, 25, 25, 25, 25, 25, 25, 25, 25, 25, 25, 25, 25, 25, 25, 25,\n",
       "       25, 25, 25, 25, 25, 25, 25, 25, 25, 25, 25, 25, 25, 25, 25, 25, 25,\n",
       "       25, 25, 25, 25, 25, 25, 25, 25, 25, 25, 25, 25, 25, 25])"
      ]
     },
     "execution_count": 203,
     "metadata": {},
     "output_type": "execute_result"
    }
   ],
   "source": [
    "path"
   ]
  },
  {
   "cell_type": "code",
   "execution_count": null,
   "metadata": {},
   "outputs": [],
   "source": []
  }
 ],
 "metadata": {
  "interpreter": {
   "hash": "dd3ee513f21aaf838badab016779f23a337795d5c82f1369edac91ce14fd6439"
  },
  "kernelspec": {
   "display_name": "Python 3.9.7 ('page_turner')",
   "language": "python",
   "name": "python3"
  },
  "language_info": {
   "codemirror_mode": {
    "name": "ipython",
    "version": 3
   },
   "file_extension": ".py",
   "mimetype": "text/x-python",
   "name": "python",
   "nbconvert_exporter": "python",
   "pygments_lexer": "ipython3",
   "version": "3.9.7"
  },
  "orig_nbformat": 4
 },
 "nbformat": 4,
 "nbformat_minor": 2
}
